{
  "nbformat": 4,
  "nbformat_minor": 0,
  "metadata": {
    "colab": {
      "name": "Review_Sentiment_Classifier.ipynb",
      "provenance": [],
      "collapsed_sections": []
    },
    "kernelspec": {
      "name": "python3",
      "display_name": "Python 3"
    },
    "accelerator": "GPU"
  },
  "cells": [
    {
      "cell_type": "code",
      "metadata": {
        "id": "OUfOZnSFfdGj",
        "colab_type": "code",
        "colab": {}
      },
      "source": [
        "# Import the machine learning libraries.\n",
        "import pandas as pd\n",
        "import numpy as np\n",
        "import re\n",
        "import pickle \n",
        "import nltk\n",
        "from nltk.corpus import stopwords\n",
        "from sklearn.datasets import load_files\n",
        "import seaborn as sns\n",
        "import matplotlib.pyplot as plt\n",
        "from mlxtend.plotting import plot_confusion_matrix\n",
        "from sklearn.model_selection import cross_val_score\n",
        "from sklearn.model_selection import train_test_split\n",
        "from sklearn.feature_extraction.text import CountVectorizer\n",
        "from sklearn.feature_extraction.text import TfidfVectorizer\n",
        "from sklearn.metrics import confusion_matrix\n",
        "from sklearn.metrics import plot_roc_curve\n",
        "from sklearn.ensemble import AdaBoostClassifier\n",
        "from sklearn.tree import DecisionTreeClassifier\n",
        "from sklearn.model_selection import GridSearchCV"
      ],
      "execution_count": 0,
      "outputs": []
    },
    {
      "cell_type": "code",
      "metadata": {
        "id": "nCnDR-SioxFj",
        "colab_type": "code",
        "colab": {
          "base_uri": "https://localhost:8080/",
          "height": 102
        },
        "outputId": "a0054f82-3361-46ff-de12-878ca53cf0f7"
      },
      "source": [
        "# Download the stopwords.\n",
        "%%time\n",
        "nltk.download('stopwords')"
      ],
      "execution_count": 6,
      "outputs": [
        {
          "output_type": "stream",
          "text": [
            "[nltk_data] Downloading package stopwords to /root/nltk_data...\n",
            "[nltk_data]   Package stopwords is already up-to-date!\n",
            "CPU times: user 1.73 ms, sys: 0 ns, total: 1.73 ms\n",
            "Wall time: 2.7 ms\n"
          ],
          "name": "stdout"
        },
        {
          "output_type": "execute_result",
          "data": {
            "text/plain": [
              "True"
            ]
          },
          "metadata": {
            "tags": []
          },
          "execution_count": 6
        }
      ]
    },
    {
      "cell_type": "code",
      "metadata": {
        "id": "VFR0TMNzpNrW",
        "colab_type": "code",
        "colab": {
          "base_uri": "https://localhost:8080/",
          "height": 51
        },
        "outputId": "184fd263-cf42-436e-bac1-4ba8b46d5611"
      },
      "source": [
        "# Import the sentiment polarity datasets.\n",
        "# Download polarity dataset v2.0. (review_polarity.tar.gz) \n",
        "# on http://www.cs.cornell.edu/people/pabo/movie-review-data/.\n",
        "# This dataset contains 1000 positive and 1000 negative reviews, respectively.\n",
        "%%time\n",
        "reviews = load_files('./drive/My Drive/ML_Code/Polarity Classification/txt_sentoken/')\n",
        "X,y = reviews.data,reviews.target"
      ],
      "execution_count": 7,
      "outputs": [
        {
          "output_type": "stream",
          "text": [
            "CPU times: user 519 ms, sys: 426 ms, total: 944 ms\n",
            "Wall time: 27min 52s\n"
          ],
          "name": "stdout"
        }
      ]
    },
    {
      "cell_type": "code",
      "metadata": {
        "id": "4Cc2MH8zpSnv",
        "colab_type": "code",
        "colab": {
          "base_uri": "https://localhost:8080/",
          "height": 51
        },
        "outputId": "b419ecaf-d005-4a59-f057-4b10ec039709"
      },
      "source": [
        "# Create the corpus\n",
        "%%time\n",
        "corpus = []\n",
        "for i in range(0, 2000):\n",
        "    review = re.sub(r'\\W', ' ', str(X[i]))\n",
        "    review = review.lower()\n",
        "    review = re.sub(r'^br$', ' ', review)\n",
        "    review = re.sub(r'\\s+br\\s+',' ',review)\n",
        "    review = re.sub(r'\\s+[a-z]\\s+', ' ',review)\n",
        "    review = re.sub(r'^b\\s+', '', review)\n",
        "    review = re.sub(r'\\s+', ' ', review)\n",
        "    corpus.append(review)"
      ],
      "execution_count": 8,
      "outputs": [
        {
          "output_type": "stream",
          "text": [
            "CPU times: user 1.49 s, sys: 18.4 ms, total: 1.51 s\n",
            "Wall time: 1.51 s\n"
          ],
          "name": "stdout"
        }
      ]
    },
    {
      "cell_type": "code",
      "metadata": {
        "id": "xZJv3v1KtpDO",
        "colab_type": "code",
        "colab": {
          "base_uri": "https://localhost:8080/",
          "height": 51
        },
        "outputId": "30e91f77-568c-4882-b684-29c1419a0e59"
      },
      "source": [
        "# Convert a collection of text documents to a matrix of token counts.\n",
        "%%time\n",
        "vectorizer = CountVectorizer(max_features = 2000, min_df = 3, max_df = 0.6, stop_words = stopwords.words('english'))\n",
        "X = vectorizer.fit_transform(corpus).toarray()"
      ],
      "execution_count": 9,
      "outputs": [
        {
          "output_type": "stream",
          "text": [
            "CPU times: user 903 ms, sys: 22.3 ms, total: 925 ms\n",
            "Wall time: 941 ms\n"
          ],
          "name": "stdout"
        }
      ]
    },
    {
      "cell_type": "code",
      "metadata": {
        "id": "GpVlcqsAts7p",
        "colab_type": "code",
        "colab": {
          "base_uri": "https://localhost:8080/",
          "height": 51
        },
        "outputId": "3d6528b3-11b1-4d11-a51a-e971a7a49056"
      },
      "source": [
        "# Convert a collection of raw documents to a matrix of TF-IDF features\n",
        "%%time\n",
        "vectorizer = TfidfVectorizer(max_features = 2000, min_df = 3, max_df = 0.6, stop_words = stopwords.words('english'))\n",
        "X = vectorizer.fit_transform(corpus).toarray()"
      ],
      "execution_count": 10,
      "outputs": [
        {
          "output_type": "stream",
          "text": [
            "CPU times: user 911 ms, sys: 9.2 ms, total: 920 ms\n",
            "Wall time: 932 ms\n"
          ],
          "name": "stdout"
        }
      ]
    },
    {
      "cell_type": "code",
      "metadata": {
        "id": "xewUS42XwusL",
        "colab_type": "code",
        "colab": {
          "base_uri": "https://localhost:8080/",
          "height": 51
        },
        "outputId": "9c7b3534-12d3-4f7a-a3ff-a038216d02af"
      },
      "source": [
        "# Split the dataset into the training set and test subsets.\n",
        "%%time\n",
        "X_train, X_test, y_train, y_test = train_test_split(X, y, test_size = 0.20, random_state = 0)"
      ],
      "execution_count": 11,
      "outputs": [
        {
          "output_type": "stream",
          "text": [
            "CPU times: user 11.6 ms, sys: 876 µs, total: 12.4 ms\n",
            "Wall time: 12.9 ms\n"
          ],
          "name": "stdout"
        }
      ]
    },
    {
      "cell_type": "code",
      "metadata": {
        "id": "ARJFGan_xNQH",
        "colab_type": "code",
        "colab": {
          "base_uri": "https://localhost:8080/",
          "height": 51
        },
        "outputId": "405d8f78-30e6-4920-c5e0-02efaa9c72e9"
      },
      "source": [
        "# Train the Logistic Regression classifier.\n",
        "%%time\n",
        "from sklearn.linear_model import LogisticRegression\n",
        "clf = LogisticRegression()\n",
        "clf.fit(X_train, y_train)"
      ],
      "execution_count": 12,
      "outputs": [
        {
          "output_type": "stream",
          "text": [
            "CPU times: user 121 ms, sys: 17.7 ms, total: 139 ms\n",
            "Wall time: 79.5 ms\n"
          ],
          "name": "stdout"
        }
      ]
    },
    {
      "cell_type": "code",
      "metadata": {
        "id": "4l6RQ91ozgTB",
        "colab_type": "code",
        "colab": {
          "base_uri": "https://localhost:8080/",
          "height": 68
        },
        "outputId": "dd1d26c5-88e5-4291-fd65-b9715d70d290"
      },
      "source": [
        "# Evaluate estimator performance.\n",
        "%%time\n",
        "score = clf.score(X_test, y_test)\n",
        "print('Accuracy: %.2f' % (score))"
      ],
      "execution_count": 13,
      "outputs": [
        {
          "output_type": "stream",
          "text": [
            "Accuracy: 0.85\n",
            "CPU times: user 1.4 ms, sys: 6.48 ms, total: 7.88 ms\n",
            "Wall time: 7.2 ms\n"
          ],
          "name": "stdout"
        }
      ]
    },
    {
      "cell_type": "code",
      "metadata": {
        "id": "S4g8WESn0V9m",
        "colab_type": "code",
        "colab": {
          "base_uri": "https://localhost:8080/",
          "height": 68
        },
        "outputId": "36406d2d-b7d4-4613-e63d-ba8aaf1cf440"
      },
      "source": [
        "# Compute cross-validated metrics (10-fold).\n",
        "%%time\n",
        "scores = cross_val_score(clf, X, y, cv=10)\n",
        "print(\"Accuracy: %0.2f (+/- %0.2f)\" % (scores.mean(), scores.std() * 2))"
      ],
      "execution_count": 14,
      "outputs": [
        {
          "output_type": "stream",
          "text": [
            "Accuracy: 0.86 (+/- 0.05)\n",
            "CPU times: user 969 ms, sys: 292 ms, total: 1.26 s\n",
            "Wall time: 665 ms\n"
          ],
          "name": "stdout"
        }
      ]
    },
    {
      "cell_type": "code",
      "metadata": {
        "id": "3wRMzwAixakO",
        "colab_type": "code",
        "colab": {
          "base_uri": "https://localhost:8080/",
          "height": 51
        },
        "outputId": "8617042a-6738-4486-da93-99025f764f0e"
      },
      "source": [
        "# Test model performance\n",
        "%%time\n",
        "y_pred = clf.predict(X_test)"
      ],
      "execution_count": 15,
      "outputs": [
        {
          "output_type": "stream",
          "text": [
            "CPU times: user 556 µs, sys: 10.5 ms, total: 11.1 ms\n",
            "Wall time: 11.5 ms\n"
          ],
          "name": "stdout"
        }
      ]
    },
    {
      "cell_type": "code",
      "metadata": {
        "id": "RIFmkJYIxt3Y",
        "colab_type": "code",
        "colab": {
          "base_uri": "https://localhost:8080/",
          "height": 85
        },
        "outputId": "5e26cd0e-252f-4297-8568-8f493beff7e0"
      },
      "source": [
        "# Print Confusion Matrix.\n",
        "%%time\n",
        "cm = confusion_matrix(y_test, y_pred)\n",
        "print(cm)"
      ],
      "execution_count": 16,
      "outputs": [
        {
          "output_type": "stream",
          "text": [
            "[[168  40]\n",
            " [ 21 171]]\n",
            "CPU times: user 3.34 ms, sys: 2 ms, total: 5.34 ms\n",
            "Wall time: 4.57 ms\n"
          ],
          "name": "stdout"
        }
      ]
    },
    {
      "cell_type": "code",
      "metadata": {
        "id": "BLsKzP1S3vKP",
        "colab_type": "code",
        "colab": {
          "base_uri": "https://localhost:8080/",
          "height": 313
        },
        "outputId": "09f82dc3-2887-413b-d0d7-78a8cc2ed3d9"
      },
      "source": [
        "# Plot the confusion matrix.\n",
        "%%time\n",
        "fig, ax = plot_confusion_matrix(conf_mat=cm,\n",
        "                                show_absolute=True,\n",
        "                                show_normed=True,\n",
        "                                colorbar=True)\n",
        "plt.show()"
      ],
      "execution_count": 22,
      "outputs": [
        {
          "output_type": "display_data",
          "data": {
            "image/png": "[encoded data removed]",
            "text/plain": [
              "<Figure size 432x288 with 2 Axes>"
            ]
          },
          "metadata": {
            "tags": [],
            "needs_background": "light"
          }
        },
        {
          "output_type": "stream",
          "text": [
            "CPU times: user 195 ms, sys: 1.66 ms, total: 197 ms\n",
            "Wall time: 197 ms\n"
          ],
          "name": "stdout"
        }
      ]
    },
    {
      "cell_type": "code",
      "metadata": {
        "id": "PG2nD4zZ6XZr",
        "colab_type": "code",
        "colab": {
          "base_uri": "https://localhost:8080/",
          "height": 308
        },
        "outputId": "8c79604b-1239-4470-9638-6ad5a443edbf"
      },
      "source": [
        "# Plot the ROC curve.\n",
        "clf_disp = plot_roc_curve(clf, X_test, y_test)\n",
        "clf_disp.figure_.suptitle(\"ROC Curve\")\n",
        "\n",
        "plt.show()"
      ],
      "execution_count": 18,
      "outputs": [
        {
          "output_type": "display_data",
          "data": {
            "image/png": "[encoded data removed]",
            "text/plain": [
              "<Figure size 432x288 with 1 Axes>"
            ]
          },
          "metadata": {
            "tags": [],
            "needs_background": "light"
          }
        }
      ]
    }
  ]
}